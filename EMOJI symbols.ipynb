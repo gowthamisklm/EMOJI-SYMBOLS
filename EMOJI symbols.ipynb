{
 "cells": [
  {
   "cell_type": "code",
   "execution_count": 2,
   "id": "c985c05c",
   "metadata": {},
   "outputs": [
    {
     "name": "stdout",
     "output_type": "stream",
     "text": [
      "😀\n"
     ]
    }
   ],
   "source": [
    "#grinning face\n",
    "print(\"\\U0001F600\")"
   ]
  },
  {
   "cell_type": "code",
   "execution_count": 3,
   "id": "f3a4c21d",
   "metadata": {},
   "outputs": [
    {
     "name": "stdout",
     "output_type": "stream",
     "text": [
      "😃\n"
     ]
    }
   ],
   "source": [
    "#grinning face with big eyes\n",
    "print(\"\\U0001F603\")"
   ]
  },
  {
   "cell_type": "code",
   "execution_count": 4,
   "id": "b1513e4c",
   "metadata": {},
   "outputs": [
    {
     "name": "stdout",
     "output_type": "stream",
     "text": [
      "😄\n"
     ]
    }
   ],
   "source": [
    "#grinning face with smile eyes\n",
    "print(\"\\U0001F604\")"
   ]
  },
  {
   "cell_type": "code",
   "execution_count": 5,
   "id": "1605209f",
   "metadata": {},
   "outputs": [
    {
     "name": "stdout",
     "output_type": "stream",
     "text": [
      "😁\n"
     ]
    }
   ],
   "source": [
    "#beaming face with smiling eyes\n",
    "print(\"\\U0001F601\")"
   ]
  },
  {
   "cell_type": "code",
   "execution_count": 6,
   "id": "3c1a28bb",
   "metadata": {},
   "outputs": [
    {
     "name": "stdout",
     "output_type": "stream",
     "text": [
      "😆\n"
     ]
    }
   ],
   "source": [
    "#grinning squinting face\n",
    "print(\"\\U0001F606\")"
   ]
  },
  {
   "cell_type": "code",
   "execution_count": 7,
   "id": "ddb94040",
   "metadata": {},
   "outputs": [
    {
     "name": "stdout",
     "output_type": "stream",
     "text": [
      "😅\n"
     ]
    }
   ],
   "source": [
    "#grinning face with sweat\n",
    "print(\"\\U0001F605\")"
   ]
  },
  {
   "cell_type": "code",
   "execution_count": 8,
   "id": "b9ead76d",
   "metadata": {},
   "outputs": [
    {
     "name": "stdout",
     "output_type": "stream",
     "text": [
      "🤣\n"
     ]
    }
   ],
   "source": [
    "#rolling on the floor laughing\n",
    "print(\"\\U0001F923\")"
   ]
  },
  {
   "cell_type": "code",
   "execution_count": 9,
   "id": "5e287dee",
   "metadata": {},
   "outputs": [
    {
     "name": "stdout",
     "output_type": "stream",
     "text": [
      "😂\n"
     ]
    }
   ],
   "source": [
    "#face with tears of joy\n",
    "print(\"\\U0001F602\")"
   ]
  },
  {
   "cell_type": "code",
   "execution_count": 12,
   "id": "2f649764",
   "metadata": {},
   "outputs": [
    {
     "name": "stdout",
     "output_type": "stream",
     "text": [
      "🙂\n"
     ]
    }
   ],
   "source": [
    "#slightly smiling face\n",
    "print(\"\\U0001F642\")"
   ]
  },
  {
   "cell_type": "code",
   "execution_count": 13,
   "id": "9ff2c48a",
   "metadata": {},
   "outputs": [
    {
     "name": "stdout",
     "output_type": "stream",
     "text": [
      "🙃\n"
     ]
    }
   ],
   "source": [
    "#upside-down face\n",
    "print(\"\\U0001F643\")"
   ]
  },
  {
   "cell_type": "code",
   "execution_count": 14,
   "id": "599c4de9",
   "metadata": {},
   "outputs": [
    {
     "name": "stdout",
     "output_type": "stream",
     "text": [
      "😉\n"
     ]
    }
   ],
   "source": [
    "#wrinking face\n",
    "print(\"\\U0001F609\")"
   ]
  },
  {
   "cell_type": "code",
   "execution_count": 15,
   "id": "15908551",
   "metadata": {},
   "outputs": [
    {
     "name": "stdout",
     "output_type": "stream",
     "text": [
      "😊\n"
     ]
    }
   ],
   "source": [
    "#smiling face with smiling eyes\n",
    "print(\"\\U0001F60A\")"
   ]
  },
  {
   "cell_type": "code",
   "execution_count": 16,
   "id": "0f69c103",
   "metadata": {},
   "outputs": [
    {
     "name": "stdout",
     "output_type": "stream",
     "text": [
      "😇\n"
     ]
    }
   ],
   "source": [
    "#smiling face with halo\n",
    "print(\"\\U0001F607\")"
   ]
  },
  {
   "cell_type": "code",
   "execution_count": 19,
   "id": "56504e9e",
   "metadata": {},
   "outputs": [
    {
     "name": "stdout",
     "output_type": "stream",
     "text": [
      "🥰\n"
     ]
    }
   ],
   "source": [
    "#smiling face with 3 hearts\n",
    "print(\"\\U0001F970\")"
   ]
  },
  {
   "cell_type": "code",
   "execution_count": 20,
   "id": "743bd38a",
   "metadata": {},
   "outputs": [
    {
     "name": "stdout",
     "output_type": "stream",
     "text": [
      "😍\n"
     ]
    }
   ],
   "source": [
    "#smiling face with hearts\n",
    "print(\"\\U0001F60D\")"
   ]
  },
  {
   "cell_type": "code",
   "execution_count": 21,
   "id": "e51752f7",
   "metadata": {},
   "outputs": [
    {
     "name": "stdout",
     "output_type": "stream",
     "text": [
      "🤩\n"
     ]
    }
   ],
   "source": [
    "#star-struck\n",
    "print(\"\\U0001F929\")"
   ]
  },
  {
   "cell_type": "code",
   "execution_count": 22,
   "id": "239fffd3",
   "metadata": {},
   "outputs": [
    {
     "name": "stdout",
     "output_type": "stream",
     "text": [
      "😘\n"
     ]
    }
   ],
   "source": [
    "#face blowing a kiss\n",
    "print(\"\\U0001F618\")"
   ]
  },
  {
   "cell_type": "code",
   "execution_count": 23,
   "id": "2c0bf621",
   "metadata": {},
   "outputs": [
    {
     "name": "stdout",
     "output_type": "stream",
     "text": [
      "😗\n"
     ]
    }
   ],
   "source": [
    "#kissing face\n",
    "print(\"\\U0001F617\")"
   ]
  },
  {
   "cell_type": "code",
   "execution_count": 25,
   "id": "de7ff515",
   "metadata": {},
   "outputs": [
    {
     "name": "stdout",
     "output_type": "stream",
     "text": [
      "☺\n"
     ]
    }
   ],
   "source": [
    "#smiling face\n",
    "print(\"\\U0000263A\")"
   ]
  },
  {
   "cell_type": "code",
   "execution_count": 26,
   "id": "ec8a3625",
   "metadata": {},
   "outputs": [
    {
     "name": "stdout",
     "output_type": "stream",
     "text": [
      "😚\n"
     ]
    }
   ],
   "source": [
    "#kissing face with closed eyes\n",
    "print(\"\\U0001F61A\")"
   ]
  },
  {
   "cell_type": "code",
   "execution_count": 28,
   "id": "a47d7080",
   "metadata": {},
   "outputs": [
    {
     "name": "stdout",
     "output_type": "stream",
     "text": [
      "😋\n"
     ]
    }
   ],
   "source": [
    "#face savoring food\n",
    "print(\"\\U0001F60B\")"
   ]
  },
  {
   "cell_type": "code",
   "execution_count": 29,
   "id": "40525abd",
   "metadata": {},
   "outputs": [
    {
     "name": "stdout",
     "output_type": "stream",
     "text": [
      "😛\n"
     ]
    }
   ],
   "source": [
    "#face with tongue\n",
    "print(\"\\U0001F61B\")"
   ]
  },
  {
   "cell_type": "code",
   "execution_count": 30,
   "id": "a9170c34",
   "metadata": {},
   "outputs": [
    {
     "name": "stdout",
     "output_type": "stream",
     "text": [
      "😜\n"
     ]
    }
   ],
   "source": [
    "#winking face with tongue\n",
    "print(\"\\U0001F61C\")"
   ]
  },
  {
   "cell_type": "code",
   "execution_count": 31,
   "id": "4ad89317",
   "metadata": {},
   "outputs": [
    {
     "name": "stdout",
     "output_type": "stream",
     "text": [
      "😝\n"
     ]
    }
   ],
   "source": [
    "#squinting face with tongue\n",
    "print(\"\\U0001F61D\")"
   ]
  },
  {
   "cell_type": "code",
   "execution_count": 34,
   "id": "9e852333",
   "metadata": {},
   "outputs": [
    {
     "name": "stdout",
     "output_type": "stream",
     "text": [
      "螺\n"
     ]
    }
   ],
   "source": [
    "#money-mouth face\n",
    "print(\"\\U0000F911\")"
   ]
  },
  {
   "cell_type": "code",
   "execution_count": 35,
   "id": "97f9e869",
   "metadata": {},
   "outputs": [
    {
     "name": "stdout",
     "output_type": "stream",
     "text": [
      "🤗\n"
     ]
    }
   ],
   "source": [
    "#hugging face \n",
    "print(\"\\U0001F917\")"
   ]
  },
  {
   "cell_type": "code",
   "execution_count": 36,
   "id": "d75adb7c",
   "metadata": {},
   "outputs": [
    {
     "name": "stdout",
     "output_type": "stream",
     "text": [
      "🤭\n"
     ]
    }
   ],
   "source": [
    "#face with hand over mouth\n",
    "print(\"\\U0001F92D\")"
   ]
  },
  {
   "cell_type": "code",
   "execution_count": 37,
   "id": "4fea242b",
   "metadata": {},
   "outputs": [
    {
     "name": "stdout",
     "output_type": "stream",
     "text": [
      "🤨\n"
     ]
    }
   ],
   "source": [
    "#shushing face\n",
    "print(\"\\U0001F928\")"
   ]
  },
  {
   "cell_type": "code",
   "execution_count": 38,
   "id": "b635aaf6",
   "metadata": {},
   "outputs": [
    {
     "name": "stdout",
     "output_type": "stream",
     "text": [
      "🤔\n"
     ]
    }
   ],
   "source": [
    "#thinking face\n",
    "print(\"\\U0001F914\")"
   ]
  },
  {
   "cell_type": "code",
   "execution_count": 43,
   "id": "3e0ec3b1",
   "metadata": {},
   "outputs": [
    {
     "name": "stdout",
     "output_type": "stream",
     "text": [
      "ࠖ\n"
     ]
    }
   ],
   "source": [
    "#face with raised eyebrow\n",
    "print(\"\\U00000816\")"
   ]
  },
  {
   "cell_type": "code",
   "execution_count": 44,
   "id": "757c7e94",
   "metadata": {},
   "outputs": [
    {
     "name": "stdout",
     "output_type": "stream",
     "text": [
      "🤐\n"
     ]
    }
   ],
   "source": [
    "#zipper-mouth face \n",
    "print(\"\\U0001F910\")"
   ]
  },
  {
   "cell_type": "code",
   "execution_count": 65,
   "id": "45f0cb3f",
   "metadata": {},
   "outputs": [
    {
     "name": "stdout",
     "output_type": "stream",
     "text": [
      "🔩\n"
     ]
    }
   ],
   "source": [
    "#ace without mouth \n",
    "print(\"\\U0001F529\")\n"
   ]
  },
  {
   "cell_type": "code",
   "execution_count": 66,
   "id": "18394615",
   "metadata": {},
   "outputs": [
    {
     "name": "stdout",
     "output_type": "stream",
     "text": [
      "🤢\n"
     ]
    }
   ],
   "source": [
    "#nauseated face \n",
    "print(\"\\U0001F922\")"
   ]
  },
  {
   "cell_type": "code",
   "execution_count": 68,
   "id": "62c1a2b7",
   "metadata": {},
   "outputs": [
    {
     "name": "stdout",
     "output_type": "stream",
     "text": [
      "🤕\n"
     ]
    }
   ],
   "source": [
    "#face with head-bandage \n",
    "print(\"\\U0001F915\")"
   ]
  },
  {
   "cell_type": "code",
   "execution_count": 70,
   "id": "e081bb5f",
   "metadata": {},
   "outputs": [
    {
     "name": "stdout",
     "output_type": "stream",
     "text": [
      "🤠\n"
     ]
    }
   ],
   "source": [
    "#face with thermometer \n",
    "print(\"\\U0001F920\")"
   ]
  },
  {
   "cell_type": "code",
   "execution_count": 71,
   "id": "fe9ee203",
   "metadata": {},
   "outputs": [
    {
     "name": "stdout",
     "output_type": "stream",
     "text": [
      "🦀\n"
     ]
    }
   ],
   "source": [
    "print(\"\\U0001F980\")"
   ]
  },
  {
   "cell_type": "code",
   "execution_count": 72,
   "id": "83fc84ff",
   "metadata": {},
   "outputs": [
    {
     "name": "stdout",
     "output_type": "stream",
     "text": [
      "🞖\n"
     ]
    }
   ],
   "source": [
    "print(\"\\U0001F796\")"
   ]
  },
  {
   "cell_type": "code",
   "execution_count": 74,
   "id": "c71a7d26",
   "metadata": {},
   "outputs": [
    {
     "name": "stdout",
     "output_type": "stream",
     "text": [
      "🤧\n"
     ]
    }
   ],
   "source": [
    "print(\"\\U0001F927\")"
   ]
  },
  {
   "cell_type": "code",
   "execution_count": 77,
   "id": "df501c44",
   "metadata": {},
   "outputs": [
    {
     "name": "stdout",
     "output_type": "stream",
     "text": [
      "😷\n"
     ]
    }
   ],
   "source": [
    "#face with medical mask \n",
    "print(\"\\U0001F637\")"
   ]
  },
  {
   "cell_type": "code",
   "execution_count": 78,
   "id": "6e5ced8b",
   "metadata": {},
   "outputs": [
    {
     "name": "stdout",
     "output_type": "stream",
     "text": [
      "😰\n"
     ]
    }
   ],
   "source": [
    "print(\"\\U0001F630\")"
   ]
  },
  {
   "cell_type": "code",
   "execution_count": 79,
   "id": "f30dff0b",
   "metadata": {},
   "outputs": [
    {
     "name": "stdout",
     "output_type": "stream",
     "text": [
      "🆓\n"
     ]
    }
   ],
   "source": [
    "print(\"\\U0001F193\")"
   ]
  },
  {
   "cell_type": "code",
   "execution_count": 81,
   "id": "d706e3b9",
   "metadata": {},
   "outputs": [
    {
     "name": "stdout",
     "output_type": "stream",
     "text": [
      "🆔\n"
     ]
    }
   ],
   "source": [
    "print(\"\\U0001F194\")"
   ]
  },
  {
   "cell_type": "code",
   "execution_count": 82,
   "id": "fc76fc83",
   "metadata": {},
   "outputs": [
    {
     "name": "stdout",
     "output_type": "stream",
     "text": [
      "🍹\n"
     ]
    }
   ],
   "source": [
    "print(\"\\U0001F379\")"
   ]
  },
  {
   "cell_type": "code",
   "execution_count": 83,
   "id": "4d5a96fa",
   "metadata": {},
   "outputs": [
    {
     "name": "stdout",
     "output_type": "stream",
     "text": [
      "🌀\n"
     ]
    }
   ],
   "source": [
    "print(\"\\U0001F300\")"
   ]
  },
  {
   "cell_type": "code",
   "execution_count": 84,
   "id": "d9a45c97",
   "metadata": {},
   "outputs": [
    {
     "name": "stdout",
     "output_type": "stream",
     "text": [
      "🄤\n"
     ]
    }
   ],
   "source": [
    "print(\"\\U0001F124\")"
   ]
  },
  {
   "cell_type": "code",
   "execution_count": 85,
   "id": "b0497524",
   "metadata": {},
   "outputs": [
    {
     "name": "stdout",
     "output_type": "stream",
     "text": [
      "🍶\n"
     ]
    }
   ],
   "source": [
    "print(\"\\U0001F376\")"
   ]
  },
  {
   "cell_type": "code",
   "execution_count": 86,
   "id": "d7e7b07c",
   "metadata": {},
   "outputs": [
    {
     "name": "stdout",
     "output_type": "stream",
     "text": [
      "😴\n"
     ]
    }
   ],
   "source": [
    "#sleeping face \n",
    "print(\"\\U0001F634\")"
   ]
  },
  {
   "cell_type": "code",
   "execution_count": 87,
   "id": "f391d014",
   "metadata": {},
   "outputs": [
    {
     "name": "stdout",
     "output_type": "stream",
     "text": [
      "🤴\n"
     ]
    }
   ],
   "source": [
    "print(\"\\U0001F934\")"
   ]
  },
  {
   "cell_type": "code",
   "execution_count": 88,
   "id": "cf7b94d7",
   "metadata": {},
   "outputs": [
    {
     "name": "stdout",
     "output_type": "stream",
     "text": [
      "🐥\n"
     ]
    }
   ],
   "source": [
    "print(\"\\U0001F425\")"
   ]
  },
  {
   "cell_type": "code",
   "execution_count": 89,
   "id": "c8189d5d",
   "metadata": {},
   "outputs": [
    {
     "name": "stdout",
     "output_type": "stream",
     "text": [
      "🈤\n"
     ]
    }
   ],
   "source": [
    "print(\"\\U0001F224\")"
   ]
  },
  {
   "cell_type": "code",
   "execution_count": 90,
   "id": "98d3a920",
   "metadata": {},
   "outputs": [
    {
     "name": "stdout",
     "output_type": "stream",
     "text": [
      "🜨\n"
     ]
    }
   ],
   "source": [
    "print(\"\\U0001F728\")"
   ]
  },
  {
   "cell_type": "code",
   "execution_count": 95,
   "id": "bf29fc39",
   "metadata": {},
   "outputs": [
    {
     "name": "stdout",
     "output_type": "stream",
     "text": [
      "🦙\n"
     ]
    }
   ],
   "source": [
    "print(\"\\U0001F999\")"
   ]
  },
  {
   "cell_type": "code",
   "execution_count": 97,
   "id": "351d0644",
   "metadata": {},
   "outputs": [
    {
     "name": "stdout",
     "output_type": "stream",
     "text": [
      "🄄\n"
     ]
    }
   ],
   "source": [
    "print(\"\\U0001F104\")"
   ]
  },
  {
   "cell_type": "code",
   "execution_count": 98,
   "id": "a474c796",
   "metadata": {},
   "outputs": [
    {
     "name": "stdout",
     "output_type": "stream",
     "text": [
      "🄈\n"
     ]
    }
   ],
   "source": [
    "print(\"\\U0001F108\")"
   ]
  },
  {
   "cell_type": "code",
   "execution_count": 99,
   "id": "4c70c28c",
   "metadata": {},
   "outputs": [
    {
     "name": "stdout",
     "output_type": "stream",
     "text": [
      "🀀\n"
     ]
    }
   ],
   "source": [
    "print(\"\\U0001F000\")"
   ]
  },
  {
   "cell_type": "code",
   "execution_count": 100,
   "id": "e7904601",
   "metadata": {},
   "outputs": [
    {
     "name": "stdout",
     "output_type": "stream",
     "text": [
      "🕧\n"
     ]
    }
   ],
   "source": [
    "print(\"\\U0001F567\")"
   ]
  },
  {
   "cell_type": "code",
   "execution_count": 101,
   "id": "ce28dd24",
   "metadata": {},
   "outputs": [
    {
     "name": "stdout",
     "output_type": "stream",
     "text": [
      "🡶\n"
     ]
    }
   ],
   "source": [
    "print(\"\\U0001F876\")"
   ]
  },
  {
   "cell_type": "code",
   "execution_count": 102,
   "id": "bd07d57e",
   "metadata": {},
   "outputs": [
    {
     "name": "stdout",
     "output_type": "stream",
     "text": [
      "🡆\n"
     ]
    }
   ],
   "source": [
    "print(\"\\U0001F846\")"
   ]
  },
  {
   "cell_type": "code",
   "execution_count": 103,
   "id": "47de49ba",
   "metadata": {},
   "outputs": [
    {
     "name": "stdout",
     "output_type": "stream",
     "text": [
      "🦇\n"
     ]
    }
   ],
   "source": [
    "print(\"\\U0001F987\")"
   ]
  },
  {
   "cell_type": "code",
   "execution_count": 104,
   "id": "e678d591",
   "metadata": {},
   "outputs": [
    {
     "name": "stdout",
     "output_type": "stream",
     "text": [
      "🆃\n"
     ]
    }
   ],
   "source": [
    "print(\"\\U0001F183\")"
   ]
  },
  {
   "cell_type": "code",
   "execution_count": 105,
   "id": "85a1e1e5",
   "metadata": {},
   "outputs": [
    {
     "name": "stdout",
     "output_type": "stream",
     "text": [
      "🤶\n"
     ]
    }
   ],
   "source": [
    "print(\"\\U0001F936\")"
   ]
  },
  {
   "cell_type": "code",
   "execution_count": 107,
   "id": "b76d6adc",
   "metadata": {},
   "outputs": [
    {
     "name": "stdout",
     "output_type": "stream",
     "text": [
      "🄑\n"
     ]
    }
   ],
   "source": [
    "print(\"\\U0001F111\")"
   ]
  },
  {
   "cell_type": "code",
   "execution_count": 108,
   "id": "c6ef26a7",
   "metadata": {},
   "outputs": [
    {
     "name": "stdout",
     "output_type": "stream",
     "text": [
      "👄\n"
     ]
    }
   ],
   "source": [
    "print(\"\\U0001F444\")"
   ]
  },
  {
   "cell_type": "code",
   "execution_count": 111,
   "id": "219ff105",
   "metadata": {},
   "outputs": [
    {
     "name": "stdout",
     "output_type": "stream",
     "text": [
      "🍤\n"
     ]
    }
   ],
   "source": [
    "print(\"\\U0001F364\")"
   ]
  },
  {
   "cell_type": "markdown",
   "id": "e14645c9",
   "metadata": {},
   "source": [
    " "
   ]
  },
  {
   "cell_type": "code",
   "execution_count": 112,
   "id": "22a3746b",
   "metadata": {},
   "outputs": [
    {
     "name": "stdout",
     "output_type": "stream",
     "text": [
      "🙷\n"
     ]
    }
   ],
   "source": [
    "print(\"\\U0001F677\")"
   ]
  },
  {
   "cell_type": "code",
   "execution_count": null,
   "id": "9b3b8a1f",
   "metadata": {},
   "outputs": [],
   "source": []
  }
 ],
 "metadata": {
  "kernelspec": {
   "display_name": "Python 3 (ipykernel)",
   "language": "python",
   "name": "python3"
  },
  "language_info": {
   "codemirror_mode": {
    "name": "ipython",
    "version": 3
   },
   "file_extension": ".py",
   "mimetype": "text/x-python",
   "name": "python",
   "nbconvert_exporter": "python",
   "pygments_lexer": "ipython3",
   "version": "3.9.12"
  }
 },
 "nbformat": 4,
 "nbformat_minor": 5
}
